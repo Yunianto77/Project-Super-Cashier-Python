{
 "cells": [
  {
   "cell_type": "code",
   "execution_count": null,
   "id": "041f1407",
   "metadata": {},
   "outputs": [],
   "source": [
    "import kasir as kasir\n",
    "order = kasir.Transaction()\n",
    "order.add_item('Ayam Goreng', 2, 20000)\n",
    "order.add_item('Pasta Gigi', 3, 15000)"
   ]
  },
  {
   "cell_type": "code",
   "execution_count": null,
   "id": "f4023b65",
   "metadata": {},
   "outputs": [],
   "source": [
    "order.delete_item('Pasta Gigi')"
   ]
  },
  {
   "cell_type": "code",
   "execution_count": null,
   "id": "e13a7b90",
   "metadata": {},
   "outputs": [],
   "source": [
    "order.reset_transaksi()"
   ]
  },
  {
   "cell_type": "code",
   "execution_count": null,
   "id": "dcc36f92",
   "metadata": {},
   "outputs": [],
   "source": [
    "order.add_item('Ayam Goreng', 2, 20000)\n",
    "order.add_item('Pasta Gigi', 3, 15000)\n",
    "order.add_item('Mainan Mobil', 1, 200000)\n",
    "order.add_item('Mi Instan', 5, 3000)"
   ]
  },
  {
   "cell_type": "code",
   "execution_count": null,
   "id": "4c43b602",
   "metadata": {},
   "outputs": [],
   "source": [
    "order.total_transaksi()"
   ]
  }
 ],
 "metadata": {
  "kernelspec": {
   "display_name": "Python 3 (ipykernel)",
   "language": "python",
   "name": "python3"
  },
  "language_info": {
   "codemirror_mode": {
    "name": "ipython",
    "version": 3
   },
   "file_extension": ".py",
   "mimetype": "text/x-python",
   "name": "python",
   "nbconvert_exporter": "python",
   "pygments_lexer": "ipython3",
   "version": "3.9.13"
  }
 },
 "nbformat": 4,
 "nbformat_minor": 5
}
